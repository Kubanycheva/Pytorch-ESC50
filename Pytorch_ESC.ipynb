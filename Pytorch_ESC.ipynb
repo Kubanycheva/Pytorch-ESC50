{
  "nbformat": 4,
  "nbformat_minor": 0,
  "metadata": {
    "colab": {
      "provenance": [],
      "gpuType": "T4"
    },
    "kernelspec": {
      "name": "python3",
      "display_name": "Python 3"
    },
    "language_info": {
      "name": "python"
    },
    "accelerator": "GPU"
  },
  "cells": [
    {
      "cell_type": "code",
      "execution_count": 235,
      "metadata": {
        "id": "raDWJtq-Nqgn"
      },
      "outputs": [],
      "source": [
        "import torch\n",
        "import torch.nn as nn\n",
        "from torchaudio import datasets, transforms, info, load\n",
        "from torch.utils.data import DataLoader, Dataset, random_split\n",
        "import torch.optim as optim\n",
        "import torch.nn.functional as F\n",
        "import os\n",
        "from torch.utils.data import Dataset\n",
        "import torchaudio\n",
        "import pandas as pd"
      ]
    },
    {
      "cell_type": "code",
      "source": [
        "import kagglehub\n",
        "\n",
        "path = kagglehub.dataset_download(\"mmoreaux/environmental-sound-classification-50\")\n",
        "\n",
        "print(\"Path to dataset files:\", path)"
      ],
      "metadata": {
        "colab": {
          "base_uri": "https://localhost:8080/"
        },
        "id": "xhzzPfQNOAyM",
        "outputId": "5d597ea3-1bf2-46c5-c290-5beed496dc96"
      },
      "execution_count": 236,
      "outputs": [
        {
          "output_type": "stream",
          "name": "stdout",
          "text": [
            "Using Colab cache for faster access to the 'environmental-sound-classification-50' dataset.\n",
            "Path to dataset files: /kaggle/input/environmental-sound-classification-50\n"
          ]
        }
      ]
    },
    {
      "cell_type": "code",
      "source": [
        "audio_dir = '/kaggle/input/environmental-sound-classification-50/audio/audio'"
      ],
      "metadata": {
        "id": "RcPyjup8RcUp"
      },
      "execution_count": 237,
      "outputs": []
    },
    {
      "cell_type": "code",
      "source": [
        "csv_path = '/kaggle/input/environmental-sound-classification-50/esc50.csv'"
      ],
      "metadata": {
        "id": "kJ2ZXLbRSQPc"
      },
      "execution_count": 238,
      "outputs": []
    },
    {
      "cell_type": "code",
      "source": [
        "df = pd.read_csv(csv_path)\n",
        "df.head()"
      ],
      "metadata": {
        "colab": {
          "base_uri": "https://localhost:8080/",
          "height": 206
        },
        "id": "BHLnaW9NOA4U",
        "outputId": "c8352009-e060-4d81-dedc-c70e9c3642ff"
      },
      "execution_count": 239,
      "outputs": [
        {
          "output_type": "execute_result",
          "data": {
            "text/plain": [
              "            filename  fold  target        category  esc10  src_file take\n",
              "0   1-100032-A-0.wav     1       0             dog   True    100032    A\n",
              "1  1-100038-A-14.wav     1      14  chirping_birds  False    100038    A\n",
              "2  1-100210-A-36.wav     1      36  vacuum_cleaner  False    100210    A\n",
              "3  1-100210-B-36.wav     1      36  vacuum_cleaner  False    100210    B\n",
              "4  1-101296-A-19.wav     1      19    thunderstorm  False    101296    A"
            ],
            "text/html": [
              "\n",
              "  <div id=\"df-071c9e84-b4c8-4e10-b544-96898f46d46b\" class=\"colab-df-container\">\n",
              "    <div>\n",
              "<style scoped>\n",
              "    .dataframe tbody tr th:only-of-type {\n",
              "        vertical-align: middle;\n",
              "    }\n",
              "\n",
              "    .dataframe tbody tr th {\n",
              "        vertical-align: top;\n",
              "    }\n",
              "\n",
              "    .dataframe thead th {\n",
              "        text-align: right;\n",
              "    }\n",
              "</style>\n",
              "<table border=\"1\" class=\"dataframe\">\n",
              "  <thead>\n",
              "    <tr style=\"text-align: right;\">\n",
              "      <th></th>\n",
              "      <th>filename</th>\n",
              "      <th>fold</th>\n",
              "      <th>target</th>\n",
              "      <th>category</th>\n",
              "      <th>esc10</th>\n",
              "      <th>src_file</th>\n",
              "      <th>take</th>\n",
              "    </tr>\n",
              "  </thead>\n",
              "  <tbody>\n",
              "    <tr>\n",
              "      <th>0</th>\n",
              "      <td>1-100032-A-0.wav</td>\n",
              "      <td>1</td>\n",
              "      <td>0</td>\n",
              "      <td>dog</td>\n",
              "      <td>True</td>\n",
              "      <td>100032</td>\n",
              "      <td>A</td>\n",
              "    </tr>\n",
              "    <tr>\n",
              "      <th>1</th>\n",
              "      <td>1-100038-A-14.wav</td>\n",
              "      <td>1</td>\n",
              "      <td>14</td>\n",
              "      <td>chirping_birds</td>\n",
              "      <td>False</td>\n",
              "      <td>100038</td>\n",
              "      <td>A</td>\n",
              "    </tr>\n",
              "    <tr>\n",
              "      <th>2</th>\n",
              "      <td>1-100210-A-36.wav</td>\n",
              "      <td>1</td>\n",
              "      <td>36</td>\n",
              "      <td>vacuum_cleaner</td>\n",
              "      <td>False</td>\n",
              "      <td>100210</td>\n",
              "      <td>A</td>\n",
              "    </tr>\n",
              "    <tr>\n",
              "      <th>3</th>\n",
              "      <td>1-100210-B-36.wav</td>\n",
              "      <td>1</td>\n",
              "      <td>36</td>\n",
              "      <td>vacuum_cleaner</td>\n",
              "      <td>False</td>\n",
              "      <td>100210</td>\n",
              "      <td>B</td>\n",
              "    </tr>\n",
              "    <tr>\n",
              "      <th>4</th>\n",
              "      <td>1-101296-A-19.wav</td>\n",
              "      <td>1</td>\n",
              "      <td>19</td>\n",
              "      <td>thunderstorm</td>\n",
              "      <td>False</td>\n",
              "      <td>101296</td>\n",
              "      <td>A</td>\n",
              "    </tr>\n",
              "  </tbody>\n",
              "</table>\n",
              "</div>\n",
              "    <div class=\"colab-df-buttons\">\n",
              "\n",
              "  <div class=\"colab-df-container\">\n",
              "    <button class=\"colab-df-convert\" onclick=\"convertToInteractive('df-071c9e84-b4c8-4e10-b544-96898f46d46b')\"\n",
              "            title=\"Convert this dataframe to an interactive table.\"\n",
              "            style=\"display:none;\">\n",
              "\n",
              "  <svg xmlns=\"http://www.w3.org/2000/svg\" height=\"24px\" viewBox=\"0 -960 960 960\">\n",
              "    <path d=\"M120-120v-720h720v720H120Zm60-500h600v-160H180v160Zm220 220h160v-160H400v160Zm0 220h160v-160H400v160ZM180-400h160v-160H180v160Zm440 0h160v-160H620v160ZM180-180h160v-160H180v160Zm440 0h160v-160H620v160Z\"/>\n",
              "  </svg>\n",
              "    </button>\n",
              "\n",
              "  <style>\n",
              "    .colab-df-container {\n",
              "      display:flex;\n",
              "      gap: 12px;\n",
              "    }\n",
              "\n",
              "    .colab-df-convert {\n",
              "      background-color: #E8F0FE;\n",
              "      border: none;\n",
              "      border-radius: 50%;\n",
              "      cursor: pointer;\n",
              "      display: none;\n",
              "      fill: #1967D2;\n",
              "      height: 32px;\n",
              "      padding: 0 0 0 0;\n",
              "      width: 32px;\n",
              "    }\n",
              "\n",
              "    .colab-df-convert:hover {\n",
              "      background-color: #E2EBFA;\n",
              "      box-shadow: 0px 1px 2px rgba(60, 64, 67, 0.3), 0px 1px 3px 1px rgba(60, 64, 67, 0.15);\n",
              "      fill: #174EA6;\n",
              "    }\n",
              "\n",
              "    .colab-df-buttons div {\n",
              "      margin-bottom: 4px;\n",
              "    }\n",
              "\n",
              "    [theme=dark] .colab-df-convert {\n",
              "      background-color: #3B4455;\n",
              "      fill: #D2E3FC;\n",
              "    }\n",
              "\n",
              "    [theme=dark] .colab-df-convert:hover {\n",
              "      background-color: #434B5C;\n",
              "      box-shadow: 0px 1px 3px 1px rgba(0, 0, 0, 0.15);\n",
              "      filter: drop-shadow(0px 1px 2px rgba(0, 0, 0, 0.3));\n",
              "      fill: #FFFFFF;\n",
              "    }\n",
              "  </style>\n",
              "\n",
              "    <script>\n",
              "      const buttonEl =\n",
              "        document.querySelector('#df-071c9e84-b4c8-4e10-b544-96898f46d46b button.colab-df-convert');\n",
              "      buttonEl.style.display =\n",
              "        google.colab.kernel.accessAllowed ? 'block' : 'none';\n",
              "\n",
              "      async function convertToInteractive(key) {\n",
              "        const element = document.querySelector('#df-071c9e84-b4c8-4e10-b544-96898f46d46b');\n",
              "        const dataTable =\n",
              "          await google.colab.kernel.invokeFunction('convertToInteractive',\n",
              "                                                    [key], {});\n",
              "        if (!dataTable) return;\n",
              "\n",
              "        const docLinkHtml = 'Like what you see? Visit the ' +\n",
              "          '<a target=\"_blank\" href=https://colab.research.google.com/notebooks/data_table.ipynb>data table notebook</a>'\n",
              "          + ' to learn more about interactive tables.';\n",
              "        element.innerHTML = '';\n",
              "        dataTable['output_type'] = 'display_data';\n",
              "        await google.colab.output.renderOutput(dataTable, element);\n",
              "        const docLink = document.createElement('div');\n",
              "        docLink.innerHTML = docLinkHtml;\n",
              "        element.appendChild(docLink);\n",
              "      }\n",
              "    </script>\n",
              "  </div>\n",
              "\n",
              "\n",
              "    <div id=\"df-6a900698-5ebc-480b-afd4-66e1a291fa8d\">\n",
              "      <button class=\"colab-df-quickchart\" onclick=\"quickchart('df-6a900698-5ebc-480b-afd4-66e1a291fa8d')\"\n",
              "                title=\"Suggest charts\"\n",
              "                style=\"display:none;\">\n",
              "\n",
              "<svg xmlns=\"http://www.w3.org/2000/svg\" height=\"24px\"viewBox=\"0 0 24 24\"\n",
              "     width=\"24px\">\n",
              "    <g>\n",
              "        <path d=\"M19 3H5c-1.1 0-2 .9-2 2v14c0 1.1.9 2 2 2h14c1.1 0 2-.9 2-2V5c0-1.1-.9-2-2-2zM9 17H7v-7h2v7zm4 0h-2V7h2v10zm4 0h-2v-4h2v4z\"/>\n",
              "    </g>\n",
              "</svg>\n",
              "      </button>\n",
              "\n",
              "<style>\n",
              "  .colab-df-quickchart {\n",
              "      --bg-color: #E8F0FE;\n",
              "      --fill-color: #1967D2;\n",
              "      --hover-bg-color: #E2EBFA;\n",
              "      --hover-fill-color: #174EA6;\n",
              "      --disabled-fill-color: #AAA;\n",
              "      --disabled-bg-color: #DDD;\n",
              "  }\n",
              "\n",
              "  [theme=dark] .colab-df-quickchart {\n",
              "      --bg-color: #3B4455;\n",
              "      --fill-color: #D2E3FC;\n",
              "      --hover-bg-color: #434B5C;\n",
              "      --hover-fill-color: #FFFFFF;\n",
              "      --disabled-bg-color: #3B4455;\n",
              "      --disabled-fill-color: #666;\n",
              "  }\n",
              "\n",
              "  .colab-df-quickchart {\n",
              "    background-color: var(--bg-color);\n",
              "    border: none;\n",
              "    border-radius: 50%;\n",
              "    cursor: pointer;\n",
              "    display: none;\n",
              "    fill: var(--fill-color);\n",
              "    height: 32px;\n",
              "    padding: 0;\n",
              "    width: 32px;\n",
              "  }\n",
              "\n",
              "  .colab-df-quickchart:hover {\n",
              "    background-color: var(--hover-bg-color);\n",
              "    box-shadow: 0 1px 2px rgba(60, 64, 67, 0.3), 0 1px 3px 1px rgba(60, 64, 67, 0.15);\n",
              "    fill: var(--button-hover-fill-color);\n",
              "  }\n",
              "\n",
              "  .colab-df-quickchart-complete:disabled,\n",
              "  .colab-df-quickchart-complete:disabled:hover {\n",
              "    background-color: var(--disabled-bg-color);\n",
              "    fill: var(--disabled-fill-color);\n",
              "    box-shadow: none;\n",
              "  }\n",
              "\n",
              "  .colab-df-spinner {\n",
              "    border: 2px solid var(--fill-color);\n",
              "    border-color: transparent;\n",
              "    border-bottom-color: var(--fill-color);\n",
              "    animation:\n",
              "      spin 1s steps(1) infinite;\n",
              "  }\n",
              "\n",
              "  @keyframes spin {\n",
              "    0% {\n",
              "      border-color: transparent;\n",
              "      border-bottom-color: var(--fill-color);\n",
              "      border-left-color: var(--fill-color);\n",
              "    }\n",
              "    20% {\n",
              "      border-color: transparent;\n",
              "      border-left-color: var(--fill-color);\n",
              "      border-top-color: var(--fill-color);\n",
              "    }\n",
              "    30% {\n",
              "      border-color: transparent;\n",
              "      border-left-color: var(--fill-color);\n",
              "      border-top-color: var(--fill-color);\n",
              "      border-right-color: var(--fill-color);\n",
              "    }\n",
              "    40% {\n",
              "      border-color: transparent;\n",
              "      border-right-color: var(--fill-color);\n",
              "      border-top-color: var(--fill-color);\n",
              "    }\n",
              "    60% {\n",
              "      border-color: transparent;\n",
              "      border-right-color: var(--fill-color);\n",
              "    }\n",
              "    80% {\n",
              "      border-color: transparent;\n",
              "      border-right-color: var(--fill-color);\n",
              "      border-bottom-color: var(--fill-color);\n",
              "    }\n",
              "    90% {\n",
              "      border-color: transparent;\n",
              "      border-bottom-color: var(--fill-color);\n",
              "    }\n",
              "  }\n",
              "</style>\n",
              "\n",
              "      <script>\n",
              "        async function quickchart(key) {\n",
              "          const quickchartButtonEl =\n",
              "            document.querySelector('#' + key + ' button');\n",
              "          quickchartButtonEl.disabled = true;  // To prevent multiple clicks.\n",
              "          quickchartButtonEl.classList.add('colab-df-spinner');\n",
              "          try {\n",
              "            const charts = await google.colab.kernel.invokeFunction(\n",
              "                'suggestCharts', [key], {});\n",
              "          } catch (error) {\n",
              "            console.error('Error during call to suggestCharts:', error);\n",
              "          }\n",
              "          quickchartButtonEl.classList.remove('colab-df-spinner');\n",
              "          quickchartButtonEl.classList.add('colab-df-quickchart-complete');\n",
              "        }\n",
              "        (() => {\n",
              "          let quickchartButtonEl =\n",
              "            document.querySelector('#df-6a900698-5ebc-480b-afd4-66e1a291fa8d button');\n",
              "          quickchartButtonEl.style.display =\n",
              "            google.colab.kernel.accessAllowed ? 'block' : 'none';\n",
              "        })();\n",
              "      </script>\n",
              "    </div>\n",
              "\n",
              "    </div>\n",
              "  </div>\n"
            ],
            "application/vnd.google.colaboratory.intrinsic+json": {
              "type": "dataframe",
              "variable_name": "df",
              "summary": "{\n  \"name\": \"df\",\n  \"rows\": 2000,\n  \"fields\": [\n    {\n      \"column\": \"filename\",\n      \"properties\": {\n        \"dtype\": \"string\",\n        \"num_unique_values\": 2000,\n        \"samples\": [\n          \"5-221950-A-22.wav\",\n          \"1-79220-A-17.wav\",\n          \"4-165845-A-45.wav\"\n        ],\n        \"semantic_type\": \"\",\n        \"description\": \"\"\n      }\n    },\n    {\n      \"column\": \"fold\",\n      \"properties\": {\n        \"dtype\": \"number\",\n        \"std\": 1,\n        \"min\": 1,\n        \"max\": 5,\n        \"num_unique_values\": 5,\n        \"samples\": [\n          2,\n          5,\n          3\n        ],\n        \"semantic_type\": \"\",\n        \"description\": \"\"\n      }\n    },\n    {\n      \"column\": \"target\",\n      \"properties\": {\n        \"dtype\": \"number\",\n        \"std\": 14,\n        \"min\": 0,\n        \"max\": 49,\n        \"num_unique_values\": 50,\n        \"samples\": [\n          45,\n          18,\n          26\n        ],\n        \"semantic_type\": \"\",\n        \"description\": \"\"\n      }\n    },\n    {\n      \"column\": \"category\",\n      \"properties\": {\n        \"dtype\": \"category\",\n        \"num_unique_values\": 50,\n        \"samples\": [\n          \"train\",\n          \"toilet_flush\",\n          \"laughing\"\n        ],\n        \"semantic_type\": \"\",\n        \"description\": \"\"\n      }\n    },\n    {\n      \"column\": \"esc10\",\n      \"properties\": {\n        \"dtype\": \"boolean\",\n        \"num_unique_values\": 2,\n        \"samples\": [\n          false,\n          true\n        ],\n        \"semantic_type\": \"\",\n        \"description\": \"\"\n      }\n    },\n    {\n      \"column\": \"src_file\",\n      \"properties\": {\n        \"dtype\": \"number\",\n        \"std\": 64882,\n        \"min\": 137,\n        \"max\": 264453,\n        \"num_unique_values\": 1524,\n        \"samples\": [\n          155130,\n          21935\n        ],\n        \"semantic_type\": \"\",\n        \"description\": \"\"\n      }\n    },\n    {\n      \"column\": \"take\",\n      \"properties\": {\n        \"dtype\": \"category\",\n        \"num_unique_values\": 8,\n        \"samples\": [\n          \"B\",\n          \"F\"\n        ],\n        \"semantic_type\": \"\",\n        \"description\": \"\"\n      }\n    }\n  ]\n}"
            }
          },
          "metadata": {},
          "execution_count": 239
        }
      ]
    },
    {
      "cell_type": "code",
      "source": [
        "classes = sorted(df['category'].unique())\n",
        "classes"
      ],
      "metadata": {
        "id": "oa4XJtxaN32z",
        "colab": {
          "base_uri": "https://localhost:8080/"
        },
        "outputId": "6abc2783-1d49-43b3-a913-d23c4a193980"
      },
      "execution_count": 240,
      "outputs": [
        {
          "output_type": "execute_result",
          "data": {
            "text/plain": [
              "['airplane',\n",
              " 'breathing',\n",
              " 'brushing_teeth',\n",
              " 'can_opening',\n",
              " 'car_horn',\n",
              " 'cat',\n",
              " 'chainsaw',\n",
              " 'chirping_birds',\n",
              " 'church_bells',\n",
              " 'clapping',\n",
              " 'clock_alarm',\n",
              " 'clock_tick',\n",
              " 'coughing',\n",
              " 'cow',\n",
              " 'crackling_fire',\n",
              " 'crickets',\n",
              " 'crow',\n",
              " 'crying_baby',\n",
              " 'dog',\n",
              " 'door_wood_creaks',\n",
              " 'door_wood_knock',\n",
              " 'drinking_sipping',\n",
              " 'engine',\n",
              " 'fireworks',\n",
              " 'footsteps',\n",
              " 'frog',\n",
              " 'glass_breaking',\n",
              " 'hand_saw',\n",
              " 'helicopter',\n",
              " 'hen',\n",
              " 'insects',\n",
              " 'keyboard_typing',\n",
              " 'laughing',\n",
              " 'mouse_click',\n",
              " 'pig',\n",
              " 'pouring_water',\n",
              " 'rain',\n",
              " 'rooster',\n",
              " 'sea_waves',\n",
              " 'sheep',\n",
              " 'siren',\n",
              " 'sneezing',\n",
              " 'snoring',\n",
              " 'thunderstorm',\n",
              " 'toilet_flush',\n",
              " 'train',\n",
              " 'vacuum_cleaner',\n",
              " 'washing_machine',\n",
              " 'water_drops',\n",
              " 'wind']"
            ]
          },
          "metadata": {},
          "execution_count": 240
        }
      ]
    },
    {
      "cell_type": "code",
      "source": [
        "len(classes)"
      ],
      "metadata": {
        "id": "rTiIul5RN35Q",
        "colab": {
          "base_uri": "https://localhost:8080/"
        },
        "outputId": "a1b8d9f3-2156-4b6c-dcaa-07ca919c48f7"
      },
      "execution_count": 241,
      "outputs": [
        {
          "output_type": "execute_result",
          "data": {
            "text/plain": [
              "50"
            ]
          },
          "metadata": {},
          "execution_count": 241
        }
      ]
    },
    {
      "cell_type": "code",
      "source": [
        "label_to_index = {lab: ind for ind, lab in enumerate(classes)}\n",
        "label_to_index"
      ],
      "metadata": {
        "id": "tJPh9AneN374",
        "colab": {
          "base_uri": "https://localhost:8080/"
        },
        "outputId": "a17ed467-e042-4099-f0b9-149b3c9a362a"
      },
      "execution_count": 242,
      "outputs": [
        {
          "output_type": "execute_result",
          "data": {
            "text/plain": [
              "{'airplane': 0,\n",
              " 'breathing': 1,\n",
              " 'brushing_teeth': 2,\n",
              " 'can_opening': 3,\n",
              " 'car_horn': 4,\n",
              " 'cat': 5,\n",
              " 'chainsaw': 6,\n",
              " 'chirping_birds': 7,\n",
              " 'church_bells': 8,\n",
              " 'clapping': 9,\n",
              " 'clock_alarm': 10,\n",
              " 'clock_tick': 11,\n",
              " 'coughing': 12,\n",
              " 'cow': 13,\n",
              " 'crackling_fire': 14,\n",
              " 'crickets': 15,\n",
              " 'crow': 16,\n",
              " 'crying_baby': 17,\n",
              " 'dog': 18,\n",
              " 'door_wood_creaks': 19,\n",
              " 'door_wood_knock': 20,\n",
              " 'drinking_sipping': 21,\n",
              " 'engine': 22,\n",
              " 'fireworks': 23,\n",
              " 'footsteps': 24,\n",
              " 'frog': 25,\n",
              " 'glass_breaking': 26,\n",
              " 'hand_saw': 27,\n",
              " 'helicopter': 28,\n",
              " 'hen': 29,\n",
              " 'insects': 30,\n",
              " 'keyboard_typing': 31,\n",
              " 'laughing': 32,\n",
              " 'mouse_click': 33,\n",
              " 'pig': 34,\n",
              " 'pouring_water': 35,\n",
              " 'rain': 36,\n",
              " 'rooster': 37,\n",
              " 'sea_waves': 38,\n",
              " 'sheep': 39,\n",
              " 'siren': 40,\n",
              " 'sneezing': 41,\n",
              " 'snoring': 42,\n",
              " 'thunderstorm': 43,\n",
              " 'toilet_flush': 44,\n",
              " 'train': 45,\n",
              " 'vacuum_cleaner': 46,\n",
              " 'washing_machine': 47,\n",
              " 'water_drops': 48,\n",
              " 'wind': 49}"
            ]
          },
          "metadata": {},
          "execution_count": 242
        }
      ]
    },
    {
      "cell_type": "code",
      "source": [
        "transform = transforms.MelSpectrogram(\n",
        "    sample_rate = 16000,\n",
        "    n_mels = 64\n",
        ")"
      ],
      "metadata": {
        "id": "noClc5xJN3-i"
      },
      "execution_count": 243,
      "outputs": []
    },
    {
      "cell_type": "code",
      "source": [
        "max_len = 500"
      ],
      "metadata": {
        "id": "Ix6bSg4cN4A_"
      },
      "execution_count": 244,
      "outputs": []
    },
    {
      "cell_type": "code",
      "source": [
        "class ESC(Dataset):\n",
        "  def __init__(self, df, root_path, transform, max_len, label_to_index):\n",
        "    self.df = df\n",
        "    self.root_path = root_path\n",
        "    self.transform = transform\n",
        "    self.max_len = max_len\n",
        "    self.label_to_index = label_to_index\n",
        "    self.audios = []\n",
        "\n",
        "    for index, row in self.df.iterrows():\n",
        "        file_path = os.path.join(self.root_path, row['filename'])\n",
        "        genre = row['category']\n",
        "        try:\n",
        "            info(file_path)\n",
        "            self.audios.append((file_path, genre))\n",
        "        except Exception as e:\n",
        "            print(f'Error loading {file_path}: {e}')\n",
        "\n",
        "  def __len__(self):\n",
        "      return len(self.audios)\n",
        "\n",
        "  def __getitem__(self, ind):\n",
        "      file_path, genre = self.audios[ind]\n",
        "      waveform, sr = load(file_path)\n",
        "\n",
        "      if sr != 16000:\n",
        "          resample = transforms.Resample(orig_freq=sr, new_freq=16000)\n",
        "          waveform = resample(waveform)\n",
        "\n",
        "      spec = self.transform(waveform).squeeze(0)\n",
        "\n",
        "      if spec.shape[1] > self.max_len:\n",
        "        spec = spec[:, :self.max_len]\n",
        "\n",
        "      if spec.shape[1] < self.max_len:\n",
        "        count_len = self.max_len - spec.shape[1]\n",
        "        spec = F.pad(spec, (0, count_len))\n",
        "\n",
        "      return spec, self.label_to_index[genre]\n"
      ],
      "metadata": {
        "id": "pAhoI8KDN4D2"
      },
      "execution_count": 245,
      "outputs": []
    },
    {
      "cell_type": "code",
      "source": [
        "dataset = ESC(df, audio_dir, transform, max_len, label_to_index)\n",
        "train_size = int(len(dataset) * 0.8)\n",
        "test_size = len(dataset) - train_size\n",
        "\n",
        "train_data, test_data = random_split(dataset, [train_size, test_size], generator=torch.Generator().manual_seed(42))\n"
      ],
      "metadata": {
        "id": "D4O-3NWnN4Hm",
        "colab": {
          "base_uri": "https://localhost:8080/"
        },
        "outputId": "775725fe-6947-4eee-c649-9137963fa041"
      },
      "execution_count": 246,
      "outputs": [
        {
          "output_type": "stream",
          "name": "stderr",
          "text": [
            "/tmp/ipython-input-991608328.py:14: UserWarning: torchaudio._backend.utils.info has been deprecated. This deprecation is part of a large refactoring effort to transition TorchAudio into a maintenance phase. The decoding and encoding capabilities of PyTorch for both audio and video are being consolidated into TorchCodec. Please see https://github.com/pytorch/audio/issues/3902 for more information. It will be removed from the 2.9 release. \n",
            "  info(file_path)\n",
            "/usr/local/lib/python3.12/dist-packages/torchaudio/_backend/ffmpeg.py:20: UserWarning: torio.io._streaming_media_decoder.StreamingMediaDecoder has been deprecated. This deprecation is part of a large refactoring effort to transition TorchAudio into a maintenance phase. The decoding and encoding capabilities of PyTorch for both audio and video are being consolidated into TorchCodec. Please see https://github.com/pytorch/audio/issues/3902 for more information. It will be removed from the 2.9 release. \n",
            "  s = torchaudio.io.StreamReader(src, format, None, buffer_size)\n",
            "/usr/local/lib/python3.12/dist-packages/torchaudio/_backend/ffmpeg.py:27: UserWarning: torchaudio._backend.common.AudioMetaData has been deprecated. This deprecation is part of a large refactoring effort to transition TorchAudio into a maintenance phase. The decoding and encoding capabilities of PyTorch for both audio and video are being consolidated into TorchCodec. Please see https://github.com/pytorch/audio/issues/3902 for more information. It will be removed from the 2.9 release. \n",
            "  return AudioMetaData(\n"
          ]
        }
      ]
    },
    {
      "cell_type": "code",
      "source": [
        "train_loader = DataLoader(train_data, batch_size=32, shuffle=True)\n",
        "test_loader = DataLoader(test_data, batch_size=32, )"
      ],
      "metadata": {
        "id": "0Q0-jHZON4J1"
      },
      "execution_count": 247,
      "outputs": []
    },
    {
      "cell_type": "code",
      "source": [
        "device =  torch.device('cuda' if torch.cuda.is_available() else 'cpu')\n",
        "device"
      ],
      "metadata": {
        "id": "d74Cwh4CN4MY",
        "colab": {
          "base_uri": "https://localhost:8080/"
        },
        "outputId": "60bbeccd-249a-4adf-c7a8-35f54b6ca29c"
      },
      "execution_count": 248,
      "outputs": [
        {
          "output_type": "execute_result",
          "data": {
            "text/plain": [
              "device(type='cuda')"
            ]
          },
          "metadata": {},
          "execution_count": 248
        }
      ]
    },
    {
      "cell_type": "code",
      "source": [
        "class CheckAudio(nn.Module):\n",
        "    def __init__(self, num_classes=10):\n",
        "        super(CheckAudio, self).__init__()\n",
        "        self.first = nn.Sequential(\n",
        "            nn.Conv2d(1, 16, kernel_size=3, padding=1),\n",
        "            nn.ReLU(),\n",
        "            nn.MaxPool2d(2),\n",
        "\n",
        "            nn.Conv2d(16, 32, kernel_size=3, padding=1),\n",
        "            nn.ReLU(),\n",
        "            nn.MaxPool2d(2),\n",
        "\n",
        "            nn.Conv2d(32, 64, kernel_size=3, padding=1),\n",
        "            nn.ReLU(),\n",
        "            nn.MaxPool2d(2),\n",
        "\n",
        "            nn.AdaptiveAvgPool2d((8, 8))\n",
        "        )\n",
        "\n",
        "        self.flatten = nn.Flatten()\n",
        "\n",
        "        self.second = nn.Sequential(\n",
        "            nn.Linear(64 * 8 * 8, 128),\n",
        "            nn.ReLU(),\n",
        "            nn.Linear(128, 64),\n",
        "            nn.ReLU(),\n",
        "            nn.Linear(64, num_classes)\n",
        "        )\n",
        "\n",
        "    def forward(self, x):\n",
        "        x = x.unsqueeze(1)\n",
        "        x = self.first(x)\n",
        "        x = self.flatten(x)\n",
        "        x = self.second(x)\n",
        "        return x"
      ],
      "metadata": {
        "id": "gB5CMoKKN4O8"
      },
      "execution_count": 249,
      "outputs": []
    },
    {
      "cell_type": "code",
      "source": [
        "model = CheckAudio(num_classes=50).to(device)"
      ],
      "metadata": {
        "id": "ZWtxKXjnN4RX"
      },
      "execution_count": 250,
      "outputs": []
    },
    {
      "cell_type": "code",
      "source": [
        "loss_fn = nn.CrossEntropyLoss()\n",
        "optimizer = optim.Adam(model.parameters(), lr=0.001)"
      ],
      "metadata": {
        "id": "oL-sKvBiN4UA"
      },
      "execution_count": 251,
      "outputs": []
    },
    {
      "cell_type": "code",
      "source": [
        "for epoch in range(20):\n",
        "  model.train()\n",
        "  total_loss = 0\n",
        "\n",
        "  for x_batch, y_batch in train_loader:\n",
        "    x_batch, y_batch = x_batch.to(device), y_batch.to(device)\n",
        "\n",
        "    y_pred = model(x_batch)\n",
        "    loss = loss_fn(y_pred, y_batch)\n",
        "\n",
        "    optimizer.zero_grad()\n",
        "    loss.backward()\n",
        "    optimizer.step()\n",
        "\n",
        "    total_loss += loss.item()\n",
        "  print(f'Эпоха {epoch+1}, Потери: {total_loss:.4f}')"
      ],
      "metadata": {
        "id": "1UhN7mj7N4Wi",
        "colab": {
          "base_uri": "https://localhost:8080/"
        },
        "outputId": "afab984f-ee2b-419a-b702-17dedcd5d615"
      },
      "execution_count": 254,
      "outputs": [
        {
          "output_type": "stream",
          "name": "stdout",
          "text": [
            "Эпоха 1, Потери: 68.7413\n",
            "Эпоха 2, Потери: 58.8688\n",
            "Эпоха 3, Потери: 61.5692\n",
            "Эпоха 4, Потери: 73.7808\n",
            "Эпоха 5, Потери: 52.3212\n",
            "Эпоха 6, Потери: 55.2192\n",
            "Эпоха 7, Потери: 42.7394\n",
            "Эпоха 8, Потери: 32.9628\n",
            "Эпоха 9, Потери: 29.8568\n",
            "Эпоха 10, Потери: 27.1869\n",
            "Эпоха 11, Потери: 35.4731\n",
            "Эпоха 12, Потери: 39.5087\n",
            "Эпоха 13, Потери: 36.7754\n",
            "Эпоха 14, Потери: 28.1819\n",
            "Эпоха 15, Потери: 23.4266\n",
            "Эпоха 16, Потери: 33.0924\n",
            "Эпоха 17, Потери: 38.6911\n",
            "Эпоха 18, Потери: 38.1446\n",
            "Эпоха 19, Потери: 22.4719\n",
            "Эпоха 20, Потери: 16.6690\n"
          ]
        }
      ]
    },
    {
      "cell_type": "code",
      "source": [
        "model.eval()\n",
        "correct, total = 0, 0\n",
        "with torch.no_grad():\n",
        "    for x_batch, y_batch in test_loader:\n",
        "        x_batch, y_batch = x_batch.to(device), y_batch.to(device)\n",
        "\n",
        "        y_pred = model(x_batch)\n",
        "        pred = torch.argmax(y_pred, dim=1)\n",
        "\n",
        "        total += y_batch.size(0)\n",
        "        correct += (pred == y_batch).sum().item()\n",
        "\n",
        "accuracy = correct * 100 / total\n",
        "print(f'точность модели : {accuracy :.2f}%')"
      ],
      "metadata": {
        "id": "3ew4pyy-N4ZM",
        "colab": {
          "base_uri": "https://localhost:8080/"
        },
        "outputId": "f92d67ec-509f-42ad-cd63-155d5881df35"
      },
      "execution_count": 255,
      "outputs": [
        {
          "output_type": "stream",
          "name": "stdout",
          "text": [
            "точность модели : 42.50%\n"
          ]
        }
      ]
    },
    {
      "cell_type": "code",
      "source": [
        "torch.save(model.state_dict(), 'model_esc.pth')\n",
        "torch.save(classes,'labels_esc.pth')"
      ],
      "metadata": {
        "id": "1Yel7RZSrH5t"
      },
      "execution_count": 256,
      "outputs": []
    }
  ]
}